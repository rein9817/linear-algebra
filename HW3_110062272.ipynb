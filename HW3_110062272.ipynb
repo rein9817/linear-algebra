{
 "cells": [
  {
   "cell_type": "markdown",
   "metadata": {
    "id": "kDACXMe7nuJo"
   },
   "source": [
    "# Linear algebra Homework assignment 3"
   ]
  },
  {
   "cell_type": "code",
   "execution_count": 2,
   "metadata": {
    "executionInfo": {
     "elapsed": 467,
     "status": "ok",
     "timestamp": 1729443642207,
     "user": {
      "displayName": "黃莉婷",
      "userId": "05775179293410531427"
     },
     "user_tz": -480
    },
    "id": "upxRk8bynuJr"
   },
   "outputs": [],
   "source": [
    "import numpy as np\n",
    "import math as m\n",
    "import matplotlib.pyplot as plt\n",
    "from mpl_toolkits.mplot3d.art3d import Poly3DCollection"
   ]
  },
  {
   "cell_type": "markdown",
   "metadata": {
    "id": "3wXjU9dHnuJr"
   },
   "source": [
    "## Problem 1 - 4"
   ]
  },
  {
   "cell_type": "code",
   "execution_count": 3,
   "metadata": {
    "executionInfo": {
     "elapsed": 6,
     "status": "ok",
     "timestamp": 1729443776204,
     "user": {
      "displayName": "黃莉婷",
      "userId": "05775179293410531427"
     },
     "user_tz": -480
    },
    "id": "uZnO49jjnuJs"
   },
   "outputs": [],
   "source": [
    "# [TODO]\n",
    "def compute_lookat(azim: float, elev: float):\n",
    "    \"\"\"\n",
    "        Compute the look at vector. (Definition in Figure 3)\n",
    "        azim: float, degree in [-180, 180],\n",
    "        elev: float, degree in [-180, 180]\n",
    "    \"\"\"\n",
    "\n",
    "    # For the definition of azim and elev, check\n",
    "    # https://matplotlib.org/stable/api/toolkits/mplot3d/view_angles.html\n",
    "\n",
    "    azim_rad = np.radians(azim)\n",
    "    elev_rad = np.radians(elev)\n",
    "\n",
    "    a = np.cos(elev_rad) * np.sin(azim_rad)\n",
    "    b = -np.sin(elev_rad)\n",
    "    c = np.cos(elev_rad) * np.cos(azim_rad)\n",
    "    \n",
    "    lookat = np.array([a, b, c])\n",
    "    return lookat / np.linalg.norm(lookat)"
   ]
  },
  {
   "cell_type": "code",
   "execution_count": 4,
   "metadata": {
    "executionInfo": {
     "elapsed": 8,
     "status": "ok",
     "timestamp": 1729443777734,
     "user": {
      "displayName": "黃莉婷",
      "userId": "05775179293410531427"
     },
     "user_tz": -480
    },
    "id": "_kvHRHu-nuJs"
   },
   "outputs": [],
   "source": [
    "# [TODO]\n",
    "def compute_normal(P1: tuple, P2: tuple, P3: tuple):\n",
    "    \"\"\"\n",
    "        Compute the normal vector, given P1, P2, P3 in counter-clockwise order.\n",
    "    \"\"\"\n",
    "\n",
    "    P1, P2, P3 = np.array(P1), np.array(P2), np.array(P3)\n",
    "    v1 = P2 - P1 \n",
    "    v2 = P3 - P1 \n",
    "    normal = np.cross(v1, v2)\n",
    "    return normal / np.linalg.norm(normal)"
   ]
  },
  {
   "cell_type": "code",
   "execution_count": 5,
   "metadata": {
    "executionInfo": {
     "elapsed": 502,
     "status": "ok",
     "timestamp": 1729443779837,
     "user": {
      "displayName": "黃莉婷",
      "userId": "05775179293410531427"
     },
     "user_tz": -480
    },
    "id": "18gbFGceowOH"
   },
   "outputs": [],
   "source": [
    "# [TODO]\n",
    "def visible(face_normal: np.ndarray, lookat: np.ndarray):\n",
    "    \"\"\"\n",
    "        Given a normal vector of a face, determine if the face (outward-facing side) is visible\n",
    "    \"\"\"\n",
    "\n",
    "    # use the normal vector of the triangle and the lookat direction\n",
    "    # to determine the visibility.\n",
    "    return np.dot(face_normal, lookat) < 0\n"
   ]
  },
  {
   "cell_type": "code",
   "execution_count": 6,
   "metadata": {
    "executionInfo": {
     "elapsed": 2,
     "status": "ok",
     "timestamp": 1729443780918,
     "user": {
      "displayName": "黃莉婷",
      "userId": "05775179293410531427"
     },
     "user_tz": -480
    },
    "id": "oUmo5WLzoz5_"
   },
   "outputs": [],
   "source": [
    "# [TODO] compute the beta in Figure3\n",
    "def compute_intensity(face_normal: np.ndarray, lookat: np.ndarray, lightsource: np.ndarray):\n",
    "    \"\"\"\n",
    "        Given normal vector of a face (face_normal), viewing vector (lookat) and lightsource (lightsource),\n",
    "        compute the specular intensity.\n",
    "    \"\"\"\n",
    "    face_normal = face_normal / np.linalg.norm(face_normal)\n",
    "    lookat = lookat / np.linalg.norm(lookat)\n",
    "    lightsource = lightsource / np.linalg.norm(lightsource)\n",
    "    reflect = 2 * np.dot(face_normal, lightsource) * face_normal - lightsource\n",
    "    reflect = reflect / np.linalg.norm(reflect)\n",
    "    intensity = max(0, np.dot(reflect, -lookat))\n",
    "    \n",
    "    return intensity"
   ]
  },
  {
   "cell_type": "markdown",
   "metadata": {
    "id": "CZExOaUJnuJt"
   },
   "source": [
    "## Problem 5\n",
    "Perform at least two tasks from the following list, and describe what you have done\n",
    "\n",
    "- Change a model (please choose a convex object).\n",
    "- Give each face of the model a different color.\n",
    "- Change the movemnt of the light source.\n",
    "- Other interesting changes"
   ]
  },
  {
   "cell_type": "code",
   "execution_count": 7,
   "metadata": {},
   "outputs": [],
   "source": [
    "def read_obj_file(file_path):\n",
    "    vertices = []\n",
    "    faces = []\n",
    "\n",
    "    with open(file_path, 'r') as file:\n",
    "        for line in file:\n",
    "            if line.startswith('v '):\n",
    "                vertex = list(map(float, line.strip().split()[1:]))\n",
    "                vertices.append(vertex)\n",
    "            elif line.startswith('f '):\n",
    "                face = [int(index.split('/')[0]) for index in line.strip().split()[1:]]\n",
    "                faces.append(face)\n",
    "\n",
    "    return np.array(vertices), np.array(faces)"
   ]
  },
  {
   "cell_type": "code",
   "execution_count": 8,
   "metadata": {
    "colab": {
     "base_uri": "https://localhost:8080/",
     "height": 332
    },
    "executionInfo": {
     "elapsed": 495,
     "status": "error",
     "timestamp": 1729443787425,
     "user": {
      "displayName": "黃莉婷",
      "userId": "05775179293410531427"
     },
     "user_tz": -480
    },
    "id": "uVmsPaS0rLo1",
    "outputId": "aa2a3653-af05-49f6-af1a-7dc53a209df4"
   },
   "outputs": [
    {
     "data": {
      "image/png": "[encoded data removed]",
      "text/plain": [
       "<Figure size 800x800 with 1 Axes>"
      ]
     },
     "metadata": {},
     "output_type": "display_data"
    }
   ],
   "source": [
    "# vertices, faces = read_obj_file('icosahedron_modified.obj')\n",
    "vertices, faces = read_obj_file('HW3_inputQ5.obj')\n",
    "\n",
    "def plot_icosahedron(vertices, faces):\n",
    "    faces = faces - 1\n",
    "    \n",
    "    fig = plt.figure(figsize=(8, 8))\n",
    "    ax = plt.axes(projection='3d')\n",
    "    ax.set_axis_off()\n",
    "    ax.view_init(azim=45, elev=30)\n",
    "    \n",
    "    colors = plt.cm.rainbow(np.linspace(0, 1, len(faces)))\n",
    "    \n",
    "    face_colors = []\n",
    "    for i, face in enumerate(faces):\n",
    "        verts = vertices[face]\n",
    "        normal = compute_normal(verts[0], verts[1], verts[2])\n",
    "        face_colors.append(colors[i])\n",
    "    \n",
    "    poly3d = Poly3DCollection([vertices[face] for face in faces])\n",
    "    poly3d.set_facecolors(face_colors)\n",
    "    poly3d.set_edgecolor('white')\n",
    "    ax.add_collection3d(poly3d)\n",
    "    \n",
    "    all_points = np.vstack([vertices[face] for face in faces])\n",
    "    x_min, x_max = all_points[:,0].min(), all_points[:,0].max()\n",
    "    y_min, y_max = all_points[:,1].min(), all_points[:,1].max()\n",
    "    z_min, z_max = all_points[:,2].min(), all_points[:,2].max()\n",
    "    \n",
    "    max_range = max(x_max-x_min, y_max-y_min, z_max-z_min)\n",
    "    mid_x = (x_max + x_min) * 0.5\n",
    "    mid_y = (y_max + y_min) * 0.5\n",
    "    mid_z = (z_max + z_min) * 0.5\n",
    "    \n",
    "    ax.set_xlim(mid_x - max_range/2, mid_x + max_range/2)\n",
    "    ax.set_ylim(mid_y - max_range/2, mid_y + max_range/2)\n",
    "    ax.set_zlim(mid_z - max_range/2, mid_z + max_range/2)\n",
    "\n",
    "plot_icosahedron(vertices, faces)\n",
    "\n",
    "studentID = '110062272'  # replace to your own studentID!\n",
    "fname = f'HW3_{studentID}.png'\n",
    "plt.savefig(fname)"
   ]
  },
  {
   "cell_type": "markdown",
   "metadata": {
    "id": "XoU755G_rL_e"
   },
   "source": [
    "## Problem 6\n",
    "There is a type of terms, called **vn** (vertex normal), in the obj file.\n",
    "However, it record vn as each\n",
    "\n",
    "Please look up the definition of vertex normal and implement it accordingly. The OBJ\n",
    "file with the corrected vertex normals is icosahedron modified.obj."
   ]
  },
  {
   "cell_type": "code",
   "execution_count": 9,
   "metadata": {
    "id": "YLLNgGj0rNY4"
   },
   "outputs": [],
   "source": [
    "from collections import defaultdict\n",
    "\n",
    "def load_obj(file_path):\n",
    "    vertices = []\n",
    "    faces = []\n",
    "    vertex_normals = []\n",
    "\n",
    "    with open(file_path, 'r') as f:\n",
    "        for line in f:\n",
    "            line = line.strip()\n",
    "            if not line or line.startswith('#'):\n",
    "                continue\n",
    "\n",
    "            values = line.split()\n",
    "            if not values:\n",
    "                continue\n",
    "\n",
    "            if values[0] == 'v':\n",
    "                vertices.append([float(x) for x in values[1:4]])\n",
    "            elif values[0] == 'vn':\n",
    "                vertex_normals.append([float(x) for x in values[1:4]])\n",
    "            elif values[0] == 'f':\n",
    "                vertex_indices = []\n",
    "                normal_indices = []\n",
    "\n",
    "                for vertex in values[1:]:\n",
    "                    if '//' in vertex:\n",
    "                        v_idx, _, n_idx = vertex.split('/')\n",
    "                        vertex_indices.append(int(v_idx) - 1)  \n",
    "                        normal_indices.append(int(n_idx) - 1)\n",
    "                    else:\n",
    "                        vertex_indices.append(int(vertex) - 1)\n",
    "\n",
    "                faces.append(vertex_indices)  \n",
    "\n",
    "    return np.array(vertices), np.array(faces), np.array(vertex_normals)"
   ]
  },
  {
   "cell_type": "code",
   "execution_count": 10,
   "metadata": {},
   "outputs": [],
   "source": [
    "# [TODO]\n",
    "def compute_vertex_normals(vertices, faces):\n",
    "    \n",
    "    vertex_normals = np.zeros_like(vertices)\n",
    "    vertex_counts = np.zeros(len(vertices))\n",
    "    ######## write you code below\n",
    "    for face in faces:\n",
    "        v1, v2, v3 = vertices[face[0]], vertices[face[1]], vertices[face[2]]\n",
    "        face_normal = compute_normal(v1, v2, v3)\n",
    "        \n",
    "        for vertex_idx in face:\n",
    "            vertex_normals[vertex_idx] += face_normal\n",
    "            vertex_counts[vertex_idx] += 1\n",
    "    \n",
    "    for i in range(len(vertex_normals)):\n",
    "        if vertex_counts[i] > 0:\n",
    "            vertex_normals[i] = vertex_normals[i] / vertex_counts[i]\n",
    "            vertex_normals[i] = vertex_normals[i] / np.linalg.norm(vertex_normals[i])\n",
    "    #########\n",
    "\n",
    "    return vertex_normals"
   ]
  },
  {
   "cell_type": "code",
   "execution_count": 11,
   "metadata": {},
   "outputs": [
    {
     "name": "stdout",
     "output_type": "stream",
     "text": [
      "PASS\n"
     ]
    }
   ],
   "source": [
    "obj_path = \"icosahedron_modified.obj\"\n",
    "vertices, faces, vn = load_obj(obj_path)\n",
    "vertex_normals = compute_vertex_normals(vertices, faces)\n",
    "\n",
    "# print(\"vertex normal：\")\n",
    "# for i, normal in enumerate(vertex_normals):\n",
    "#     print(f\"v{i+1:02d} normal: [{normal[0]:.6f}, {normal[1]:.6f}, {normal[2]:.6f}]\")\n",
    "\n",
    "if (np.allclose(vertex_normals, vn)):\n",
    "    print(\"PASS\")\n",
    "else :\n",
    "    print(\"ERROR\")"
   ]
  }
 ],
 "metadata": {
  "colab": {
   "provenance": []
  },
  "kernelspec": {
   "display_name": "Python 3",
   "language": "python",
   "name": "python3"
  },
  "language_info": {
   "codemirror_mode": {
    "name": "ipython",
    "version": 3
   },
   "file_extension": ".py",
   "mimetype": "text/x-python",
   "name": "python",
   "nbconvert_exporter": "python",
   "pygments_lexer": "ipython3",
   "version": "3.12.2"
  }
 },
 "nbformat": 4,
 "nbformat_minor": 0
}
